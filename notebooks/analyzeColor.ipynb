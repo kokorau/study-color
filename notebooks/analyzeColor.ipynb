{
 "cells": [
  {
   "metadata": {},
   "cell_type": "markdown",
   "source": "## 等間隔にRGBを配置し、OKLAB, OKLCHへ変換",
   "id": "9080f5b0775849f1"
  },
  {
   "metadata": {},
   "cell_type": "code",
   "outputs": [],
   "execution_count": null,
   "source": [
    "import json\n",
    "from scripts.color3d import process_color_palette, plot_color_spaces, generate_equal_interval_palette, rgb_to_oklab, \\\n",
    "    oklab_to_oklch\n",
    "import numpy as np\n",
    "\n",
    "POINT_SIZE = 100\n",
    "\n",
    "equal_interval_rgb_colors = generate_equal_interval_palette()\n",
    "equal_interval_oklab_colors = np.array([rgb_to_oklab(color) for color in equal_interval_rgb_colors])\n",
    "equal_interval_oklch_colors = np.array([oklab_to_oklch(oklab) for oklab in equal_interval_oklab_colors])\n",
    "plot_color_spaces(equal_interval_rgb_colors, equal_interval_oklab_colors, equal_interval_oklch_colors, POINT_SIZE)"
   ],
   "id": "d6cae05ba774cbfc"
  },
  {
   "metadata": {},
   "cell_type": "markdown",
   "source": "## カラーパレットから抽出した値をプロットしてみる",
   "id": "5a2afefe2c67e202"
  },
  {
   "metadata": {},
   "cell_type": "code",
   "outputs": [],
   "execution_count": null,
   "source": [
    "import json\n",
    "from scripts.color3d import process_color_palette, plot_color_spaces, generate_equal_interval_palette, rgb_to_oklab, \\\n",
    "    oklab_to_oklch\n",
    "import numpy as np\n",
    "\n",
    "POINT_SIZE = 10\n",
    "\n",
    "if __name__ == \"__main__\":\n",
    "    # Load color palette from JSON file\n",
    "    with open('../data/raw/rgbPalette.json', 'r') as file:\n",
    "        palette = json.load(file)\n",
    "rgb_colors, oklab_colors, oklch_colors = process_color_palette(palette)\n",
    "plot_color_spaces(rgb_colors, oklab_colors, oklch_colors)\n"
   ],
   "id": "6ce5c7e35163c727"
  },
  {
   "metadata": {},
   "cell_type": "code",
   "outputs": [],
   "execution_count": null,
   "source": "",
   "id": "f532bb8cc9f183b3"
  }
 ],
 "metadata": {
  "kernelspec": {
   "display_name": "Python 3 (ipykernel)",
   "language": "python",
   "name": "python3"
  },
  "language_info": {
   "codemirror_mode": {
    "name": "ipython",
    "version": 3
   },
   "file_extension": ".py",
   "mimetype": "text/x-python",
   "name": "python",
   "nbconvert_exporter": "python",
   "pygments_lexer": "ipython3",
   "version": "3.10.3"
  }
 },
 "nbformat": 4,
 "nbformat_minor": 5
}
